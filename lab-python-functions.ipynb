{
 "cells": [
  {
   "cell_type": "markdown",
   "id": "25d7736c-ba17-4aff-b6bb-66eba20fbf4e",
   "metadata": {},
   "source": [
    "# Lab | Functions"
   ]
  },
  {
   "cell_type": "markdown",
   "id": "0c581062-8967-4d93-b06e-62833222f930",
   "metadata": {
    "tags": []
   },
   "source": [
    "## Exercise: Managing Customer Orders with Functions\n",
    "\n",
    "In the previous exercise, you improved the code for managing customer orders by using loops and flow control. Now, let's take it a step further and refactor the code by introducing functions.\n",
    "\n",
    "Follow the steps below to complete the exercise:\n",
    "\n",
    "1. Define a function named `initialize_inventory` that takes `products` as a parameter. Inside the function, implement the code for initializing the inventory dictionary using a loop and user input.\n",
    "\n",
    "2. Define a function named `get_customer_orders` that takes no parameters. Inside the function, implement the code for prompting the user to enter the product names using a loop. The function should return the `customer_orders` set.\n",
    "\n",
    "3. Define a function named `update_inventory` that takes `customer_orders` and `inventory` as parameters. Inside the function, implement the code for updating the inventory dictionary based on the customer orders.\n",
    "\n",
    "4. Define a function named `calculate_order_statistics` that takes `customer_orders` and `products` as parameters. Inside the function, implement the code for calculating the order statistics (total products ordered, and percentage of unique products ordered). The function should return these values.\n",
    "\n",
    "5. Define a function named `print_order_statistics` that takes `order_statistics` as a parameter. Inside the function, implement the code for printing the order statistics.\n",
    "\n",
    "6. Define a function named `print_updated_inventory` that takes `inventory` as a parameter. Inside the function, implement the code for printing the updated inventory.\n",
    "\n",
    "7. Call the functions in the appropriate sequence to execute the program and manage customer orders.\n",
    "\n",
    "Hints for functions:\n",
    "\n",
    "- Consider the input parameters required for each function and their return values.\n",
    "- Utilize function parameters and return values to transfer data between functions.\n",
    "- Test your functions individually to ensure they work correctly.\n",
    "\n",
    "\n"
   ]
  },
  {
   "cell_type": "code",
   "execution_count": 4,
   "id": "871628ae-e4d6-4db2-938f-dc9860659f33",
   "metadata": {},
   "outputs": [],
   "source": [
    "#1.\n",
    "def initialize_inventory(products):\n",
    "    inventory={}\n",
    "    for product in products:\n",
    "         inventory[product]=int(input(f\"Enter the number of available {product}\"))\n",
    "    return inventory\n"
   ]
  },
  {
   "cell_type": "code",
   "execution_count": 5,
   "id": "279357e0-b2e7-4b5e-a4e2-f35ef7b11a48",
   "metadata": {},
   "outputs": [],
   "source": [
    "#2.\n",
    "\n",
    "def get_customer_orders():\n",
    "    customer_orders=set() #set\n",
    "    choice=\"yes\"\n",
    "    while choice.lower() == \"yes\":\n",
    "        customer_orders.add(input(f\"Enter a product that you want to order from {products} \"))\n",
    "        choice= input(\"Do you want to add another product (yes/no)\")\n",
    "    return customer_orders\n",
    "      \n",
    "    "
   ]
  },
  {
   "cell_type": "code",
   "execution_count": 6,
   "id": "5f78783d-bee6-48a2-a628-767fc886837d",
   "metadata": {},
   "outputs": [],
   "source": [
    "#3.\n",
    "def update_inventory(customer_orders,inventory):\n",
    "    for customer_order in customer_orders:\n",
    "       if customer_order in inventory and inventory[customer_order]>0:\n",
    "          inventory[customer_order]=inventory[customer_order]-1\n",
    "\n"
   ]
  },
  {
   "cell_type": "code",
   "execution_count": 7,
   "id": "f9bb5c26-84b6-4501-884a-a11abf8df88d",
   "metadata": {},
   "outputs": [],
   "source": [
    "#4.\n",
    "def calculate_order_statistics(customer_orders,products):\n",
    "    total_products_ordered=len(customer_orders)\n",
    "    percentage_ordered =100*total_products_ordered/len(products)\n",
    "    order_statistics=(total_products_ordered,percentage_ordered)\n",
    "    return order_statistics\n"
   ]
  },
  {
   "cell_type": "code",
   "execution_count": 8,
   "id": "5639cd02-c8ed-468d-85f7-f1f936a7bc3a",
   "metadata": {},
   "outputs": [],
   "source": [
    "#5.\n",
    "def print_order_statistics(order_statistics):\n",
    "    print(\"Order Statistics:\")\n",
    "    print(f\"Total Products Ordered: {order_statistics[0]}\")\n",
    "    print(f\"Percentage of Products Ordered: {order_statistics[1]}% \")\n",
    "\n",
    "    "
   ]
  },
  {
   "cell_type": "code",
   "execution_count": 9,
   "id": "19df2eb6-9119-441b-a4a8-d46930f6fa75",
   "metadata": {},
   "outputs": [],
   "source": [
    "#6.\n",
    "def print_updated_inventory(inventory):\n",
    "    for key,value in inventory.items():\n",
    "        print(f\"{key}-{value}\")\n"
   ]
  },
  {
   "cell_type": "code",
   "execution_count": 10,
   "id": "db12a6b1-fd18-4b70-971f-65af20da227d",
   "metadata": {},
   "outputs": [
    {
     "name": "stdin",
     "output_type": "stream",
     "text": [
      "Enter the number of available t-shirt 8\n",
      "Enter the number of available mug 5\n",
      "Enter the number of available hat 6\n",
      "Enter the number of available book 2\n",
      "Enter the number of available keychain 1\n",
      "Enter a product that you want to order from ['t-shirt', 'mug', 'hat', 'book', 'keychain']  t-shirt\n",
      "Do you want to add another product (yes/no) yes\n",
      "Enter a product that you want to order from ['t-shirt', 'mug', 'hat', 'book', 'keychain']  mug\n",
      "Do you want to add another product (yes/no) yes\n",
      "Enter a product that you want to order from ['t-shirt', 'mug', 'hat', 'book', 'keychain']  hat\n",
      "Do you want to add another product (yes/no) yes\n",
      "Enter a product that you want to order from ['t-shirt', 'mug', 'hat', 'book', 'keychain']  book\n",
      "Do you want to add another product (yes/no) no\n"
     ]
    },
    {
     "name": "stdout",
     "output_type": "stream",
     "text": [
      "Order Statistics:\n",
      "Total Products Ordered: 4\n",
      "Percentage of Products Ordered: 80.0% \n",
      "t-shirt-7\n",
      "mug-4\n",
      "hat-5\n",
      "book-1\n",
      "keychain-1\n"
     ]
    }
   ],
   "source": [
    "#7.\n",
    "products=[\"t-shirt\", \"mug\", \"hat\", \"book\", \"keychain\"] #products list\n",
    "inventory=initialize_inventory(products)\n",
    "customer_orders=get_customer_orders() \n",
    "update_inventory(customer_orders,inventory)\n",
    "order_statistics=calculate_order_statistics(customer_orders,products)\n",
    "print_order_statistics(order_statistics)\n",
    "print_updated_inventory(inventory)"
   ]
  }
 ],
 "metadata": {
  "kernelspec": {
   "display_name": "Python [conda env:base] *",
   "language": "python",
   "name": "conda-base-py"
  },
  "language_info": {
   "codemirror_mode": {
    "name": "ipython",
    "version": 3
   },
   "file_extension": ".py",
   "mimetype": "text/x-python",
   "name": "python",
   "nbconvert_exporter": "python",
   "pygments_lexer": "ipython3",
   "version": "3.12.7"
  }
 },
 "nbformat": 4,
 "nbformat_minor": 5
}
